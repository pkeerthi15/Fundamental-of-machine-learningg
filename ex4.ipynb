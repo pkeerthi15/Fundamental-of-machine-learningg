{
  "nbformat": 4,
  "nbformat_minor": 0,
  "metadata": {
    "colab": {
      "provenance": []
    },
    "kernelspec": {
      "name": "python3",
      "display_name": "Python 3"
    },
    "language_info": {
      "name": "python"
    }
  },
  "cells": [
    {
      "cell_type": "code",
      "execution_count": 1,
      "metadata": {
        "id": "fGcwDLfOom-z"
      },
      "outputs": [],
      "source": [
        "\n",
        "import numpy as np\n",
        "X = np.array([[0, 0],\n",
        "              [0, 1],\n",
        "              [1, 0],\n",
        "              [1, 1]])\n",
        "\n",
        "\n"
      ]
    },
    {
      "cell_type": "code",
      "source": [
        "Y = np.array([0, 0, 0, 1])\n",
        "w = np.array([0.3, -0.2])\n",
        "theta=0.4\n",
        "lr=0.2\n",
        "epochs=5\n",
        "print(f\"Initial weights:{w},theta={theta},lr={lr}\\n\")\n"
      ],
      "metadata": {
        "colab": {
          "base_uri": "https://localhost:8080/"
        },
        "id": "qzzlgAtao0Mz",
        "outputId": "33d72c90-e692-47da-dbe6-09edf0e9760f"
      },
      "execution_count": 2,
      "outputs": [
        {
          "output_type": "stream",
          "name": "stdout",
          "text": [
            "Initial weights:[ 0.3 -0.2],theta=0.4,lr=0.2\n",
            "\n"
          ]
        }
      ]
    },
    {
      "cell_type": "code",
      "source": [
        "for epoch in range(1, epochs+1):\n",
        "  print(f\"---Epoch {epoch} ---\")\n",
        "  print(f\"x1\\tx2\\ty_des\\ty_est\\terror\\tw1\\tw2\")\n",
        "  error_count = 0\n",
        "  for i in range(len(X)):\n",
        "    x=X[i]\n",
        "    y_des=Y[i]\n",
        "\n",
        "    net = np.dot(x, w) + theta\n",
        "    y_est=1 if net>=0 else 0\n",
        "    error = y_des-y_est\n",
        "    if error != 0:\n",
        "      w = w + lr * error * x\n",
        "      error_count += 1\n",
        "    print(f\"{x[0]}\\t{x[1]}\\t{y_des}\\t{y_est}\\t{error}\\t{w[0]:.1f}\\t{w[1]:.1f}\")\n",
        "\n",
        "  if error_count == 0:\n",
        "    print(\"\\nTraining complete!\")\n",
        "    break\n"
      ],
      "metadata": {
        "colab": {
          "base_uri": "https://localhost:8080/"
        },
        "id": "t9Lip82Uo1xB",
        "outputId": "d42f330c-91fb-4a92-b91d-ca34312002fe"
      },
      "execution_count": 3,
      "outputs": [
        {
          "output_type": "stream",
          "name": "stdout",
          "text": [
            "---Epoch 1 ---\n",
            "x1\tx2\ty_des\ty_est\terror\tw1\tw2\n",
            "0\t0\t0\t1\t-1\t0.3\t-0.2\n",
            "0\t1\t0\t1\t-1\t0.3\t-0.4\n",
            "1\t0\t0\t1\t-1\t0.1\t-0.4\n",
            "1\t1\t1\t1\t0\t0.1\t-0.4\n",
            "---Epoch 2 ---\n",
            "x1\tx2\ty_des\ty_est\terror\tw1\tw2\n",
            "0\t0\t0\t1\t-1\t0.1\t-0.4\n",
            "0\t1\t0\t1\t-1\t0.1\t-0.6\n",
            "1\t0\t0\t1\t-1\t-0.1\t-0.6\n",
            "1\t1\t1\t0\t1\t0.1\t-0.4\n",
            "---Epoch 3 ---\n",
            "x1\tx2\ty_des\ty_est\terror\tw1\tw2\n",
            "0\t0\t0\t1\t-1\t0.1\t-0.4\n",
            "0\t1\t0\t0\t0\t0.1\t-0.4\n",
            "1\t0\t0\t1\t-1\t-0.1\t-0.4\n",
            "1\t1\t1\t0\t1\t0.1\t-0.2\n",
            "---Epoch 4 ---\n",
            "x1\tx2\ty_des\ty_est\terror\tw1\tw2\n",
            "0\t0\t0\t1\t-1\t0.1\t-0.2\n",
            "0\t1\t0\t1\t-1\t0.1\t-0.4\n",
            "1\t0\t0\t1\t-1\t-0.1\t-0.4\n",
            "1\t1\t1\t0\t1\t0.1\t-0.2\n",
            "---Epoch 5 ---\n",
            "x1\tx2\ty_des\ty_est\terror\tw1\tw2\n",
            "0\t0\t0\t1\t-1\t0.1\t-0.2\n",
            "0\t1\t0\t1\t-1\t0.1\t-0.4\n",
            "1\t0\t0\t1\t-1\t-0.1\t-0.4\n",
            "1\t1\t1\t0\t1\t0.1\t-0.2\n"
          ]
        }
      ]
    },
    {
      "cell_type": "code",
      "source": [
        "print(\"\\nFinal perceptron outputs:\")\n",
        "for i in range(len(X)):\n",
        "  x=X[i]\n",
        "  net = np.dot(x, w) + theta\n",
        "  y_est=1 if net>=0 else 0\n",
        "  print(f\"Input {x}->Net={round(net,1)},Yest={y_est},Ydes={Y[i]}\")\n",
        ""
      ],
      "metadata": {
        "colab": {
          "base_uri": "https://localhost:8080/"
        },
        "id": "2uhvDV4Yo6ci",
        "outputId": "0a79bbf6-6f34-46ca-a1b5-d5b8a03f2ded"
      },
      "execution_count": 4,
      "outputs": [
        {
          "output_type": "stream",
          "name": "stdout",
          "text": [
            "\n",
            "Final perceptron outputs:\n",
            "Input [0 0]->Net=0.4,Yest=1,Ydes=0\n",
            "Input [0 1]->Net=0.2,Yest=1,Ydes=0\n",
            "Input [1 0]->Net=0.5,Yest=1,Ydes=0\n",
            "Input [1 1]->Net=0.3,Yest=1,Ydes=1\n"
          ]
        }
      ]
    }
  ]
}