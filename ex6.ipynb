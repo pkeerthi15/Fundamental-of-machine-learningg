{
  "nbformat": 4,
  "nbformat_minor": 0,
  "metadata": {
    "colab": {
      "provenance": []
    },
    "kernelspec": {
      "name": "python3",
      "display_name": "Python 3"
    },
    "language_info": {
      "name": "python"
    }
  },
  "cells": [
    {
      "cell_type": "code",
      "execution_count": 1,
      "metadata": {
        "id": "ssvFrcIMV_uF"
      },
      "outputs": [],
      "source": [
        "import numpy as np\n",
        "import matplotlib.pyplot as plt\n",
        "import seaborn as sns\n",
        "from sklearn.model_selection import train_test_split, KFold, cross_val_score\n",
        "from sklearn.preprocessing import LabelEncoder\n",
        "from sklearn.svm import SVC\n",
        "from sklearn.metrics import confusion_matrix, classification_report, accuracy_score, precision_score, recall_score, f1_score\n",
        ""
      ]
    },
    {
      "cell_type": "code",
      "source": [
        "from google.colab import drive\n",
        "drive.mount('/content/drive')"
      ],
      "metadata": {
        "colab": {
          "base_uri": "https://localhost:8080/"
        },
        "id": "QUhckrlXWR3S",
        "outputId": "f2e38dd1-12da-4647-b773-1c9ea9c8d1b9"
      },
      "execution_count": 2,
      "outputs": [
        {
          "output_type": "stream",
          "name": "stdout",
          "text": [
            "Mounted at /content/drive\n"
          ]
        }
      ]
    },
    {
      "cell_type": "code",
      "source": [
        "import pandas as pd\n",
        "file_path = \"/content/drive/MyDrive/machine learning/ObesityDataSet_raw_and_data_sinthetic.csv\"\n",
        "\n",
        "df = pd.read_csv(file_path)\n",
        "print(df.head())\n"
      ],
      "metadata": {
        "colab": {
          "base_uri": "https://localhost:8080/"
        },
        "id": "wr26KhbqWgOR",
        "outputId": "3cdb42e6-6fc9-40c4-fc90-0bd876659bc2"
      },
      "execution_count": 7,
      "outputs": [
        {
          "output_type": "stream",
          "name": "stdout",
          "text": [
            "    Age  Gender  Height  Weight        CALC FAVC  FCVC  NCP  SCC SMOKE  CH2O  \\\n",
            "0  21.0  Female    1.62    64.0          no   no   2.0  3.0   no    no   2.0   \n",
            "1  21.0  Female    1.52    56.0   Sometimes   no   3.0  3.0  yes   yes   3.0   \n",
            "2  23.0    Male    1.80    77.0  Frequently   no   2.0  3.0   no    no   2.0   \n",
            "3  27.0    Male    1.80    87.0  Frequently   no   3.0  3.0   no    no   2.0   \n",
            "4  22.0    Male    1.78    89.8   Sometimes   no   2.0  1.0   no    no   2.0   \n",
            "\n",
            "  family_history_with_overweight  FAF  TUE       CAEC                 MTRANS  \\\n",
            "0                            yes  0.0  1.0  Sometimes  Public_Transportation   \n",
            "1                            yes  3.0  0.0  Sometimes  Public_Transportation   \n",
            "2                            yes  2.0  1.0  Sometimes  Public_Transportation   \n",
            "3                             no  2.0  0.0  Sometimes                Walking   \n",
            "4                             no  0.0  0.0  Sometimes  Public_Transportation   \n",
            "\n",
            "            NObeyesdad  \n",
            "0        Normal_Weight  \n",
            "1        Normal_Weight  \n",
            "2        Normal_Weight  \n",
            "3   Overweight_Level_I  \n",
            "4  Overweight_Level_II  \n"
          ]
        }
      ]
    },
    {
      "cell_type": "code",
      "source": [
        "X = df.drop('NObeyesdad', axis=1)\n",
        "y = df['NObeyesdad']\n",
        "le = LabelEncoder()\n",
        "for col in X.columns:\n",
        "    if X[col].dtype == 'object':\n",
        "        X[col] = le.fit_transform(X[col])\n",
        "y = le.fit_transform(y)\n",
        "\n",
        "X_train, X_test, y_train, y_test = train_test_split(X, y, test_size=0.2, random_state=42)\n",
        "\n",
        "# Build SVM (RBF)\n",
        "svm_rbf = SVC(kernel='rbf', C=1.0, gamma='scale')\n",
        "svm_rbf.fit(X_train, y_train)\n",
        "\n",
        "# Evaluate\n",
        "y_pred = svm_rbf.predict(X_test)\n",
        "print(\"\\nConfusion Matrix:\\n\", confusion_matrix(y_test, y_pred))\n",
        "print(\"\\nClassification Report:\\n\", classification_report(y_test, y_pred))"
      ],
      "metadata": {
        "colab": {
          "base_uri": "https://localhost:8080/"
        },
        "id": "oY2ld69Naem5",
        "outputId": "3dfaab3e-914c-4376-d90a-1bc391ace136"
      },
      "execution_count": 9,
      "outputs": [
        {
          "output_type": "stream",
          "name": "stdout",
          "text": [
            "\n",
            "Confusion Matrix:\n",
            " [[49  7  0  0  0  0  0]\n",
            " [18 21  0  0  0 20  3]\n",
            " [ 0  0 26  7 21  1 23]\n",
            " [ 0  0  5 24 29  0  0]\n",
            " [ 0  0  0  0 63  0  0]\n",
            " [ 2 14  0  0  0 27 13]\n",
            " [ 0  2  9  0  0 10 29]]\n",
            "\n",
            "Classification Report:\n",
            "               precision    recall  f1-score   support\n",
            "\n",
            "           0       0.71      0.88      0.78        56\n",
            "           1       0.48      0.34      0.40        62\n",
            "           2       0.65      0.33      0.44        78\n",
            "           3       0.77      0.41      0.54        58\n",
            "           4       0.56      1.00      0.72        63\n",
            "           5       0.47      0.48      0.47        56\n",
            "           6       0.43      0.58      0.49        50\n",
            "\n",
            "    accuracy                           0.57       423\n",
            "   macro avg       0.58      0.57      0.55       423\n",
            "weighted avg       0.59      0.57      0.54       423\n",
            "\n"
          ]
        }
      ]
    },
    {
      "cell_type": "markdown",
      "source": [],
      "metadata": {
        "id": "7r-LX2qtatMf"
      }
    },
    {
      "cell_type": "code",
      "source": [
        "kernels = ['linear', 'poly', 'rbf', 'sigmoid']\n",
        "results = {}\n",
        "for k in kernels:\n",
        "    model = SVC(kernel=k, C=1.0, gamma='scale')\n",
        "    model.fit(X_train, y_train)\n",
        "    pred = model.predict(X_test)\n",
        "    acc = accuracy_score(y_test, pred)\n",
        "    prec = precision_score(y_test, pred, average='weighted')\n",
        "    rec = recall_score(y_test, pred, average='weighted')\n",
        "    f1 = f1_score(y_test, pred, average='weighted')\n",
        "    results[k] = [acc, prec, rec, f1]\n",
        "    print(f\"\\n{k.upper()} Kernel -> Accuracy: {acc:.4f}, Precision: {prec:.4f}, Recall: {rec:.4f}, F1: {f1:.4f}\")"
      ],
      "metadata": {
        "colab": {
          "base_uri": "https://localhost:8080/"
        },
        "id": "f_8ca52VWsr-",
        "outputId": "d793cad2-5156-4bda-fded-e4e661a1a92c"
      },
      "execution_count": 10,
      "outputs": [
        {
          "output_type": "stream",
          "name": "stdout",
          "text": [
            "\n",
            "LINEAR Kernel -> Accuracy: 0.8865, Precision: 0.8906, Recall: 0.8865, F1: 0.8830\n",
            "\n",
            "POLY Kernel -> Accuracy: 0.5721, Precision: 0.5895, Recall: 0.5721, F1: 0.5565\n",
            "\n",
            "RBF Kernel -> Accuracy: 0.5650, Precision: 0.5851, Recall: 0.5650, F1: 0.5445\n",
            "\n",
            "SIGMOID Kernel -> Accuracy: 0.0355, Precision: 0.1372, Recall: 0.0355, F1: 0.0297\n"
          ]
        },
        {
          "output_type": "stream",
          "name": "stderr",
          "text": [
            "/usr/local/lib/python3.12/dist-packages/sklearn/metrics/_classification.py:1565: UndefinedMetricWarning: Precision is ill-defined and being set to 0.0 in labels with no predicted samples. Use `zero_division` parameter to control this behavior.\n",
            "  _warn_prf(average, modifier, f\"{metric.capitalize()} is\", len(result))\n"
          ]
        }
      ]
    },
    {
      "cell_type": "code",
      "source": [
        "plt.figure(figsize=(8,5))\n",
        "plt.bar(results.keys(), [results[k][0] for k in results.keys()],\n",
        "        color=['#4CAF50','#2196F3','#FF9800','#E91E63'])\n",
        "plt.title('SVM Accuracy for Different Kernels')\n",
        "plt.xlabel('Kernel Type')\n",
        "plt.ylabel('Accuracy')\n",
        "plt.show()"
      ],
      "metadata": {
        "colab": {
          "base_uri": "https://localhost:8080/",
          "height": 487
        },
        "id": "Cddxql01a1dh",
        "outputId": "2452ab3f-b42e-463f-af9c-9ff80588ecb5"
      },
      "execution_count": 11,
      "outputs": [
        {
          "output_type": "display_data",
          "data": {
            "text/plain": [
              "<Figure size 800x500 with 1 Axes>"
            ],
            "image/png": "[encoded data removed]"
          },
          "metadata": {}
        }
      ]
    },
    {
      "cell_type": "code",
      "source": [
        "cv_results = {}\n",
        "kf = KFold(n_splits=5, shuffle=True, random_state=42)\n",
        "for k in kernels:\n",
        "    model = SVC(kernel=k, C=1.0, gamma='scale')\n",
        "    acc = cross_val_score(model, X, y, cv=kf, scoring='accuracy').mean()\n",
        "    prec = cross_val_score(model, X, y, cv=kf, scoring='precision_weighted').mean()\n",
        "    rec = cross_val_score(model, X, y, cv=kf, scoring='recall_weighted').mean()\n",
        "    f1 = cross_val_score(model, X, y, cv=kf, scoring='f1_weighted').mean()\n",
        "    cv_results[k] = [acc, prec, rec, f1]\n",
        "\n",
        "print(\"\\n5-Fold Cross-Validation Results:\")\n",
        "for k, v in cv_results.items():\n",
        "    print(f\"{k} -> Accuracy: {v[0]:.4f}, Precision: {v[1]:.4f}, Recall: {v[2]:.4f}, F1: {v[3]:.4f}\")"
      ],
      "metadata": {
        "colab": {
          "base_uri": "https://localhost:8080/"
        },
        "id": "D2kQ7B1Ja7Px",
        "outputId": "af60e11d-3726-46ff-df6e-04e3408c506e"
      },
      "execution_count": 12,
      "outputs": [
        {
          "output_type": "stream",
          "name": "stderr",
          "text": [
            "/usr/local/lib/python3.12/dist-packages/sklearn/metrics/_classification.py:1565: UndefinedMetricWarning: Precision is ill-defined and being set to 0.0 in labels with no predicted samples. Use `zero_division` parameter to control this behavior.\n",
            "  _warn_prf(average, modifier, f\"{metric.capitalize()} is\", len(result))\n",
            "/usr/local/lib/python3.12/dist-packages/sklearn/metrics/_classification.py:1565: UndefinedMetricWarning: Precision is ill-defined and being set to 0.0 in labels with no predicted samples. Use `zero_division` parameter to control this behavior.\n",
            "  _warn_prf(average, modifier, f\"{metric.capitalize()} is\", len(result))\n",
            "/usr/local/lib/python3.12/dist-packages/sklearn/metrics/_classification.py:1565: UndefinedMetricWarning: Precision is ill-defined and being set to 0.0 in labels with no predicted samples. Use `zero_division` parameter to control this behavior.\n",
            "  _warn_prf(average, modifier, f\"{metric.capitalize()} is\", len(result))\n",
            "/usr/local/lib/python3.12/dist-packages/sklearn/metrics/_classification.py:1565: UndefinedMetricWarning: Precision is ill-defined and being set to 0.0 in labels with no predicted samples. Use `zero_division` parameter to control this behavior.\n",
            "  _warn_prf(average, modifier, f\"{metric.capitalize()} is\", len(result))\n",
            "/usr/local/lib/python3.12/dist-packages/sklearn/metrics/_classification.py:1565: UndefinedMetricWarning: Precision is ill-defined and being set to 0.0 in labels with no predicted samples. Use `zero_division` parameter to control this behavior.\n",
            "  _warn_prf(average, modifier, f\"{metric.capitalize()} is\", len(result))\n"
          ]
        },
        {
          "output_type": "stream",
          "name": "stdout",
          "text": [
            "\n",
            "5-Fold Cross-Validation Results:\n",
            "linear -> Accuracy: 0.8787, Precision: 0.8810, Recall: 0.8787, F1: 0.8765\n",
            "poly -> Accuracy: 0.5974, Precision: 0.6097, Recall: 0.5974, F1: 0.5865\n",
            "rbf -> Accuracy: 0.5609, Precision: 0.5783, Recall: 0.5609, F1: 0.5506\n",
            "sigmoid -> Accuracy: 0.0303, Precision: 0.0985, Recall: 0.0303, F1: 0.0164\n"
          ]
        }
      ]
    },
    {
      "cell_type": "code",
      "source": [
        "x = np.arange(len(kernels))\n",
        "width = 0.2\n",
        "plt.figure(figsize=(8,5))\n",
        "plt.bar(x-0.3, [cv_results[k][0] for k in kernels], width, label='Accuracy')\n",
        "plt.bar(x-0.1, [cv_results[k][1] for k in kernels], width, label='Precision')\n",
        "plt.bar(x+0.1, [cv_results[k][2] for k in kernels], width, label='Recall')\n",
        "plt.bar(x+0.3, [cv_results[k][3] for k in kernels], width, label='F1')\n",
        "plt.xticks(x, kernels)\n",
        "plt.title('SVM Performance Metrics (5-Fold CV)')\n",
        "plt.legend()\n",
        "plt.show()"
      ],
      "metadata": {
        "colab": {
          "base_uri": "https://localhost:8080/",
          "height": 468
        },
        "id": "8uDZzcbQbEKr",
        "outputId": "51c50ab2-dddd-4ab5-bbf1-edbcb462ac8e"
      },
      "execution_count": 13,
      "outputs": [
        {
          "output_type": "display_data",
          "data": {
            "text/plain": [
              "<Figure size 800x500 with 1 Axes>"
            ],
            "image/png": "[encoded data removed]"
          },
          "metadata": {}
        }
      ]
    },
    {
      "cell_type": "code",
      "source": [
        "print(\"\\nFirst 5 Support Vector Indices (RBF):\")\n",
        "print(svm_rbf.support_[:5])\n",
        "print(\"\\nFirst 5 Support Vectors (RBF):\\n\")\n",
        "print(svm_rbf.support_vectors_[:5])"
      ],
      "metadata": {
        "colab": {
          "base_uri": "https://localhost:8080/"
        },
        "id": "9W3UMxHxbZWJ",
        "outputId": "87b54fa7-93a5-4ead-d2c6-3b43530a0da8"
      },
      "execution_count": 14,
      "outputs": [
        {
          "output_type": "stream",
          "name": "stdout",
          "text": [
            "\n",
            "First 5 Support Vector Indices (RBF):\n",
            "[ 9 59 67 93 99]\n",
            "\n",
            "First 5 Support Vectors (RBF):\n",
            "\n",
            "[[22.99368   0.        1.741377 54.877111  3.        1.        3.\n",
            "   3.        0.        0.        2.009796  1.        2.        0.071317\n",
            "   1.        3.      ]\n",
            " [17.405104  1.        1.82525  58.913579  3.        1.        2.580872\n",
            "   3.887906  0.        0.        2.        1.        2.        0.453649\n",
            "   2.        0.      ]\n",
            " [21.478496  0.        1.686936 51.256059  3.        1.        3.\n",
            "   3.179995  0.        0.        1.910378  1.        0.480614  0.625079\n",
            "   1.        3.      ]\n",
            " [18.128249  1.        1.699437 52.08657   2.        1.        2.853513\n",
            "   3.        0.        0.        2.        1.        0.680464  1.258881\n",
            "   2.        3.      ]\n",
            " [17.469417  1.        1.798645 59.612717  3.        1.        2.336044\n",
            "   4.        0.        0.        2.        1.        2.        0.133005\n",
            "   2.        0.      ]]\n"
          ]
        }
      ]
    }
  ]
}