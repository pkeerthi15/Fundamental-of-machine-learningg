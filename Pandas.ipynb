{
 "cells": [
  {
   "cell_type": "code",
   "execution_count": 3,
   "id": "5a552cb4-1cd8-427e-9b70-d2d7a469ffd9",
   "metadata": {},
   "outputs": [
    {
     "name": "stdout",
     "output_type": "stream",
     "text": [
      "x    1\n",
      "y    7\n",
      "z    2\n",
      "dtype: int64\n"
     ]
    }
   ],
   "source": [
    "a=[1,7,2]\n",
    "myvar=pd.Series(a,index=[\"x\",\"y\",\"z\"])\n",
    "print(myvar)\n"
   ]
  },
  {
   "cell_type": "code",
   "execution_count": 5,
   "id": "5c3e1292-8056-478e-814a-26c08e5f8f38",
   "metadata": {},
   "outputs": [
    {
     "name": "stdout",
     "output_type": "stream",
     "text": [
      "series>25=\n",
      " 0    False\n",
      "1    False\n",
      "2     True\n",
      "3     True\n",
      "dtype: bool\n",
      "\n",
      "Series after Scalar Multiplication:\n",
      " 0    20\n",
      "1    40\n",
      "2    60\n",
      "3    80\n",
      "dtype: int64\n"
     ]
    }
   ],
   "source": [
    "gt=series>25\n",
    "print(\"series>25=\\n\",gt)\n",
    "series_multiplied=series*2\n",
    "print(\"\\nSeries after Scalar Multiplication:\\n\",series_multiplied)\n"
   ]
  },
  {
   "cell_type": "code",
   "execution_count": 6,
   "id": "2817b051-4d1f-443f-b2b7-17776af5542e",
   "metadata": {},
   "outputs": [
    {
     "name": "stdout",
     "output_type": "stream",
     "text": [
      "series=\n",
      " 0    10\n",
      "1    20\n",
      "2    30\n",
      "3    40\n",
      "dtype: int64\n",
      "\n",
      "Series after Applying Square Root:\n",
      " 0    3.162278\n",
      "1    4.472136\n",
      "2    5.477226\n",
      "3    6.324555\n",
      "dtype: float64\n"
     ]
    }
   ],
   "source": [
    "import numpy as np\n",
    "print(\"series=\\n\",series)\n",
    "series_sqrt=np.sqrt(series)\n",
    "print(\"\\nSeries after Applying Square Root:\\n\",series_sqrt)"
   ]
  },
  {
   "cell_type": "code",
   "execution_count": 7,
   "id": "051df4b3-fb0f-4271-9c98-1bf87f79789c",
   "metadata": {},
   "outputs": [
    {
     "name": "stdout",
     "output_type": "stream",
     "text": [
      "   calories  duration\n",
      "0       433        59\n",
      "1       454        30\n",
      "2       437        20\n"
     ]
    }
   ],
   "source": [
    "import pandas as pd\n",
    "data={\n",
    "    \"calories\":[433,454,437],\n",
    "    \"duration\":[59,30,20]\n",
    "}\n",
    "df=pd.DataFrame(data)\n",
    "print(df)"
   ]
  },
  {
   "cell_type": "code",
   "execution_count": 8,
   "id": "495798a4-5dca-4b56-94c1-ceea452f0745",
   "metadata": {},
   "outputs": [
    {
     "name": "stdout",
     "output_type": "stream",
     "text": [
      "  state  year  pop\n",
      "0  ohio  2000  1.2\n",
      "1  ohio  2000  1.5\n",
      "2  ohio  2000  1.7\n",
      "3  ohio  2000  1.7\n"
     ]
    }
   ],
   "source": [
    "data={'state':['ohio','ohio','ohio','ohio'],\n",
    "      'year':[2000,2000,2000,2000],\n",
    "      'pop':[1.2,1.5,1.7,1.7]}\n",
    "frame=pd.DataFrame(data)\n",
    "print(frame)"
   ]
  },
  {
   "cell_type": "code",
   "execution_count": 11,
   "id": "b6d1f08f-090e-4d7c-9a89-4d3f259dd31c",
   "metadata": {},
   "outputs": [
    {
     "name": "stdout",
     "output_type": "stream",
     "text": [
      "   year state  pop\n",
      "0  2000  ohio  1.2\n",
      "1  2000  ohio  1.5\n",
      "2  2000  ohio  1.7\n",
      "3  2000  ohio  1.7\n"
     ]
    }
   ],
   "source": [
    "frame=pd.DataFrame(data,columns=['year','state','pop'])\n",
    "print(frame)"
   ]
  },
  {
   "cell_type": "code",
   "execution_count": 15,
   "id": "c9caa3e3-ea62-4c9a-acae-5190d6154aaf",
   "metadata": {},
   "outputs": [
    {
     "name": "stdout",
     "output_type": "stream",
     "text": [
      "d    4.5\n",
      "b    7.2\n",
      "a   -5.3\n",
      "c    3.5\n",
      "dtype: float64\n"
     ]
    }
   ],
   "source": [
    "obj=pd.Series([4.5,7.2,-5.3,3.5],index=['d','b','a','c'])\n",
    "print(obj)\n"
   ]
  },
  {
   "cell_type": "code",
   "execution_count": 17,
   "id": "5083202f-d543-45bb-8183-4cbdc4e5456e",
   "metadata": {},
   "outputs": [
    {
     "data": {
      "text/plain": [
       "a   -5.3\n",
       "b    7.2\n",
       "c    3.5\n",
       "d    4.5\n",
       "e    NaN\n",
       "dtype: float64"
      ]
     },
     "execution_count": 17,
     "metadata": {},
     "output_type": "execute_result"
    }
   ],
   "source": [
    "obj2=obj.reindex(['a','b','c','d','e'])\n",
    "obj2\n"
   ]
  },
  {
   "cell_type": "code",
   "execution_count": 21,
   "id": "ab182dc0-8675-48ff-901c-532d048e592f",
   "metadata": {},
   "outputs": [
    {
     "name": "stdout",
     "output_type": "stream",
     "text": [
      "0      blue\n",
      "2    purple\n",
      "5    yellow\n",
      "dtype: object\n"
     ]
    },
    {
     "data": {
      "text/plain": [
       "0      blue\n",
       "1      blue\n",
       "2    purple\n",
       "3    purple\n",
       "4    purple\n",
       "5    yellow\n",
       "dtype: object"
      ]
     },
     "execution_count": 21,
     "metadata": {},
     "output_type": "execute_result"
    }
   ],
   "source": [
    "obj3=pd.Series(['blue','purple','yellow',],index=[0,2,5])\n",
    "print(obj3)\n",
    "obj4=obj3.reindex(range(6),method='ffill')\n",
    "obj4\n"
   ]
  },
  {
   "cell_type": "code",
   "execution_count": 22,
   "id": "b746f59d-2c82-48a4-8678-5a9bad8009b0",
   "metadata": {},
   "outputs": [
    {
     "name": "stdout",
     "output_type": "stream",
     "text": [
      "\n",
      "Method 'bfill':\n",
      "0      blue\n",
      "1    purple\n",
      "2    purple\n",
      "3    yellow\n",
      "4    yellow\n",
      "5    yellow\n",
      "dtype: object\n"
     ]
    }
   ],
   "source": [
    "obj5=obj3.reindex(range(6),method='bfill')\n",
    "print(\"\\nMethod 'bfill':\")\n",
    "print(obj5)"
   ]
  },
  {
   "cell_type": "code",
   "execution_count": 23,
   "id": "d567df3a-a9a2-4dc7-bbdb-8592096538b0",
   "metadata": {},
   "outputs": [
    {
     "name": "stdout",
     "output_type": "stream",
     "text": [
      "a    0.0\n",
      "b    1.0\n",
      "d    3.0\n",
      "e    4.0\n",
      "dtype: float64\n"
     ]
    },
    {
     "data": {
      "text/plain": [
       "a    0.0\n",
       "b    1.0\n",
       "e    4.0\n",
       "dtype: float64"
      ]
     },
     "execution_count": 23,
     "metadata": {},
     "output_type": "execute_result"
    }
   ],
   "source": [
    "obj=pd.Series(np.arange(5.),index=['a','b','c','d','e'])\n",
    "new_obj=obj.drop('c')\n",
    "print(new_obj)\n",
    "obj.drop(['d','c'])"
   ]
  },
  {
   "cell_type": "code",
   "execution_count": 25,
   "id": "6d4ebddd-8363-47e8-aeba-4ef0604cc356",
   "metadata": {},
   "outputs": [
    {
     "data": {
      "text/html": [
       "<div>\n",
       "<style scoped>\n",
       "    .dataframe tbody tr th:only-of-type {\n",
       "        vertical-align: middle;\n",
       "    }\n",
       "\n",
       "    .dataframe tbody tr th {\n",
       "        vertical-align: top;\n",
       "    }\n",
       "\n",
       "    .dataframe thead th {\n",
       "        text-align: right;\n",
       "    }\n",
       "</style>\n",
       "<table border=\"1\" class=\"dataframe\">\n",
       "  <thead>\n",
       "    <tr style=\"text-align: right;\">\n",
       "      <th></th>\n",
       "      <th>one</th>\n",
       "      <th>two</th>\n",
       "      <th>three</th>\n",
       "      <th>four</th>\n",
       "    </tr>\n",
       "  </thead>\n",
       "  <tbody>\n",
       "    <tr>\n",
       "      <th>ohio</th>\n",
       "      <td>0</td>\n",
       "      <td>1</td>\n",
       "      <td>2</td>\n",
       "      <td>3</td>\n",
       "    </tr>\n",
       "    <tr>\n",
       "      <th>Dallas</th>\n",
       "      <td>4</td>\n",
       "      <td>5</td>\n",
       "      <td>6</td>\n",
       "      <td>7</td>\n",
       "    </tr>\n",
       "    <tr>\n",
       "      <th>Bostin</th>\n",
       "      <td>8</td>\n",
       "      <td>9</td>\n",
       "      <td>10</td>\n",
       "      <td>11</td>\n",
       "    </tr>\n",
       "    <tr>\n",
       "      <th>Nj</th>\n",
       "      <td>12</td>\n",
       "      <td>13</td>\n",
       "      <td>14</td>\n",
       "      <td>15</td>\n",
       "    </tr>\n",
       "    <tr>\n",
       "      <th>new york</th>\n",
       "      <td>16</td>\n",
       "      <td>17</td>\n",
       "      <td>18</td>\n",
       "      <td>19</td>\n",
       "    </tr>\n",
       "    <tr>\n",
       "      <th>austin</th>\n",
       "      <td>20</td>\n",
       "      <td>21</td>\n",
       "      <td>22</td>\n",
       "      <td>23</td>\n",
       "    </tr>\n",
       "  </tbody>\n",
       "</table>\n",
       "</div>"
      ],
      "text/plain": [
       "          one  two  three  four\n",
       "ohio        0    1      2     3\n",
       "Dallas      4    5      6     7\n",
       "Bostin      8    9     10    11\n",
       "Nj         12   13     14    15\n",
       "new york   16   17     18    19\n",
       "austin     20   21     22    23"
      ]
     },
     "execution_count": 25,
     "metadata": {},
     "output_type": "execute_result"
    }
   ],
   "source": [
    "data=pd.DataFrame(np.arange(24).reshape((6,4)),\n",
    "                  index=['ohio','Dallas','Bostin','Nj','new york','austin'],\n",
    "                  columns=['one','two','three','four'])\n",
    "data\n"
   ]
  },
  {
   "cell_type": "code",
   "execution_count": 26,
   "id": "b1da8ac3-deca-4761-a449-409c6f1700ce",
   "metadata": {},
   "outputs": [
    {
     "data": {
      "text/html": [
       "<div>\n",
       "<style scoped>\n",
       "    .dataframe tbody tr th:only-of-type {\n",
       "        vertical-align: middle;\n",
       "    }\n",
       "\n",
       "    .dataframe tbody tr th {\n",
       "        vertical-align: top;\n",
       "    }\n",
       "\n",
       "    .dataframe thead th {\n",
       "        text-align: right;\n",
       "    }\n",
       "</style>\n",
       "<table border=\"1\" class=\"dataframe\">\n",
       "  <thead>\n",
       "    <tr style=\"text-align: right;\">\n",
       "      <th></th>\n",
       "      <th>one</th>\n",
       "      <th>two</th>\n",
       "      <th>three</th>\n",
       "      <th>four</th>\n",
       "    </tr>\n",
       "  </thead>\n",
       "  <tbody>\n",
       "    <tr>\n",
       "      <th>ohio</th>\n",
       "      <td>0</td>\n",
       "      <td>0</td>\n",
       "      <td>0</td>\n",
       "      <td>0</td>\n",
       "    </tr>\n",
       "    <tr>\n",
       "      <th>Dallas</th>\n",
       "      <td>0</td>\n",
       "      <td>5</td>\n",
       "      <td>6</td>\n",
       "      <td>7</td>\n",
       "    </tr>\n",
       "    <tr>\n",
       "      <th>Bostin</th>\n",
       "      <td>8</td>\n",
       "      <td>9</td>\n",
       "      <td>10</td>\n",
       "      <td>11</td>\n",
       "    </tr>\n",
       "    <tr>\n",
       "      <th>Nj</th>\n",
       "      <td>12</td>\n",
       "      <td>13</td>\n",
       "      <td>14</td>\n",
       "      <td>15</td>\n",
       "    </tr>\n",
       "    <tr>\n",
       "      <th>new york</th>\n",
       "      <td>16</td>\n",
       "      <td>17</td>\n",
       "      <td>18</td>\n",
       "      <td>19</td>\n",
       "    </tr>\n",
       "    <tr>\n",
       "      <th>austin</th>\n",
       "      <td>20</td>\n",
       "      <td>21</td>\n",
       "      <td>22</td>\n",
       "      <td>23</td>\n",
       "    </tr>\n",
       "  </tbody>\n",
       "</table>\n",
       "</div>"
      ],
      "text/plain": [
       "          one  two  three  four\n",
       "ohio        0    0      0     0\n",
       "Dallas      0    5      6     7\n",
       "Bostin      8    9     10    11\n",
       "Nj         12   13     14    15\n",
       "new york   16   17     18    19\n",
       "austin     20   21     22    23"
      ]
     },
     "execution_count": 26,
     "metadata": {},
     "output_type": "execute_result"
    }
   ],
   "source": [
    "data<5\n",
    "data[data<5]=0\n",
    "data"
   ]
  },
  {
   "cell_type": "code",
   "execution_count": 27,
   "id": "6cf7d461-9a15-4a51-a47f-a88f98601d00",
   "metadata": {},
   "outputs": [
    {
     "name": "stdout",
     "output_type": "stream",
     "text": [
      "   A  B\n",
      "0  1  4\n",
      "1  2  5\n",
      "2  3  6\n",
      "   A   B\n",
      "0  7  10\n",
      "1  8  24\n",
      "2  9  17\n"
     ]
    }
   ],
   "source": [
    "df1=pd.DataFrame({'A':[1,2,3],'B':[4,5,6]})\n",
    "df2=pd.DataFrame({'A':[7,8,9],'B':[10,24,17]})\n",
    "print(df1)\n",
    "print(df2)"
   ]
  },
  {
   "cell_type": "code",
   "execution_count": 29,
   "id": "e8e2dedd-cc32-45ea-be0f-4d82be1b0f22",
   "metadata": {},
   "outputs": [
    {
     "name": "stdout",
     "output_type": "stream",
     "text": [
      "\n",
      "Sub:\n",
      "    A   B\n",
      "0 -6  -6\n",
      "1 -6 -19\n",
      "2 -6 -11\n"
     ]
    }
   ],
   "source": [
    "print(\"\\nSub:\\n\",df1-df2)\n"
   ]
  },
  {
   "cell_type": "code",
   "execution_count": 31,
   "id": "a631afb3-3ca1-4e1b-9507-a396f43d9694",
   "metadata": {},
   "outputs": [
    {
     "name": "stdout",
     "output_type": "stream",
     "text": [
      "\n",
      "Division:\n",
      "           A         B\n",
      "0  0.142857  0.400000\n",
      "1  0.250000  0.208333\n",
      "2  0.333333  0.352941\n"
     ]
    }
   ],
   "source": [
    "print(\"\\nDivision:\\n\",df1/df2)"
   ]
  },
  {
   "cell_type": "code",
   "execution_count": 33,
   "id": "d6cf1903-9c35-4855-a63c-792b60216f5c",
   "metadata": {},
   "outputs": [
    {
     "name": "stdout",
     "output_type": "stream",
     "text": [
      "   A  B\n",
      "0  1  4\n",
      "1  2  5\n",
      "2  3  6\n",
      "   B    c\n",
      "1  7   10\n",
      "2  2   20\n",
      "3  4  112\n"
     ]
    }
   ],
   "source": [
    "df3=pd.DataFrame({'A':[1,2,3],'B':[4,5,6]},index=[0,1,2])\n",
    "df4=pd.DataFrame({'B':[7,2,4],'c':[10,20,112]},index=[1,2,3])\n",
    "print(df3)\n",
    "print(df4)"
   ]
  },
  {
   "cell_type": "code",
   "execution_count": 34,
   "id": "c0025262-e1c3-4121-ac19-4b4a6b91a166",
   "metadata": {},
   "outputs": [
    {
     "name": "stdout",
     "output_type": "stream",
     "text": [
      "a    1\n",
      "b    2\n",
      "c    3\n",
      "d    0\n",
      "dtype: int64\n"
     ]
    }
   ],
   "source": [
    "obj=pd.Series(range(4),index=['d','a','b','c'])\n",
    "df_sort_series=obj.sort_index()\n",
    "print(df_sort_series)\n"
   ]
  },
  {
   "cell_type": "code",
   "execution_count": 36,
   "id": "9549b6c8-8d28-4c01-8d22-8d242dc81379",
   "metadata": {},
   "outputs": [
    {
     "name": "stdout",
     "output_type": "stream",
     "text": [
      "Rank\n",
      " 0    6.5\n",
      "1    1.0\n",
      "2    6.5\n",
      "3    4.0\n",
      "4    3.0\n",
      "5    2.0\n",
      "6    5.0\n",
      "dtype: float64\n"
     ]
    }
   ],
   "source": [
    "obj=pd.Series([7,-5,7,3,2,0,4])\n",
    "df_rank=obj.rank()\n",
    "print(\"Rank\\n\",df_rank)"
   ]
  },
  {
   "cell_type": "code",
   "execution_count": null,
   "id": "44a3cf2d-422d-42d8-862d-b4de31f9085c",
   "metadata": {},
   "outputs": [],
   "source": []
  }
 ],
 "metadata": {
  "kernelspec": {
   "display_name": "Python 3 (ipykernel)",
   "language": "python",
   "name": "python3"
  },
  "language_info": {
   "codemirror_mode": {
    "name": "ipython",
    "version": 3
   },
   "file_extension": ".py",
   "mimetype": "text/x-python",
   "name": "python",
   "nbconvert_exporter": "python",
   "pygments_lexer": "ipython3",
   "version": "3.13.5"
  }
 },
 "nbformat": 4,
 "nbformat_minor": 5
}
