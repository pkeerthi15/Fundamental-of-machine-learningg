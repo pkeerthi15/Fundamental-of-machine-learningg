{
 "cells": [
  {
   "cell_type": "code",
   "execution_count": 1,
   "id": "94f0b6e4",
   "metadata": {},
   "outputs": [
    {
     "name": "stdout",
     "output_type": "stream",
     "text": [
      "[1 3 6 7 8 9]\n"
     ]
    }
   ],
   "source": [
    "import numpy as np\n",
    "arr1=np.array([1,3,6,7,8,9])\n",
    "print(arr1)"
   ]
  },
  {
   "cell_type": "code",
   "execution_count": 2,
   "id": "37e83288",
   "metadata": {},
   "outputs": [
    {
     "name": "stdout",
     "output_type": "stream",
     "text": [
      "[[1 2 3 4]\n",
      " [6 7 8 9]]\n"
     ]
    }
   ],
   "source": [
    "arr2=np.array([[1,2,3,4],[6,7,8,9]])\n",
    "print(arr2)"
   ]
  },
  {
   "cell_type": "code",
   "execution_count": 6,
   "id": "3b6662ac",
   "metadata": {},
   "outputs": [
    {
     "name": "stdout",
     "output_type": "stream",
     "text": [
      "[[0. 0.]\n",
      " [0. 0.]\n",
      " [0. 0.]]\n"
     ]
    }
   ],
   "source": [
    "Zeros_arr=np.zeros((3,2))\n",
    "print(Zeros_arr)"
   ]
  },
  {
   "cell_type": "code",
   "execution_count": 7,
   "id": "365977b8",
   "metadata": {},
   "outputs": [
    {
     "name": "stdout",
     "output_type": "stream",
     "text": [
      "[[1. 0. 0.]\n",
      " [0. 1. 0.]\n",
      " [0. 0. 1.]]\n"
     ]
    }
   ],
   "source": [
    "identity_matrix = np.eye(3)\n",
    "print(identity_matrix)"
   ]
  },
  {
   "cell_type": "code",
   "execution_count": 11,
   "id": "05ec9e12",
   "metadata": {},
   "outputs": [
    {
     "name": "stdout",
     "output_type": "stream",
     "text": [
      "[1. 2. 3. 4.] float32\n",
      "int32\n"
     ]
    }
   ],
   "source": [
    "arr3=np.array([1,2,3,4],dtype=np.float32)\n",
    "arr4=np.array([1,2,3,4,],dtype=np.int32)\n",
    "print(arr3,arr3.dtype)\n",
    "print(arr4.dtype)"
   ]
  },
  {
   "cell_type": "code",
   "execution_count": 14,
   "id": "f196e85f",
   "metadata": {},
   "outputs": [
    {
     "name": "stdout",
     "output_type": "stream",
     "text": [
      "[1. 2. 3. 4.] float32\n",
      "[1 2 3 4] int32\n"
     ]
    }
   ],
   "source": [
    "n_arr3=arr3.astype('i')\n",
    "print(arr3,arr3.dtype)\n",
    "print(n_arr3,n_arr3.dtype)"
   ]
  },
  {
   "cell_type": "code",
   "execution_count": 17,
   "id": "dcb52fdf",
   "metadata": {},
   "outputs": [
    {
     "name": "stdout",
     "output_type": "stream",
     "text": [
      "[0 1 2 3 4 5 6 7 8 9] int32\n",
      "[0. 1. 2. 3. 4. 5. 6. 7. 8. 9.] float32\n"
     ]
    }
   ],
   "source": [
    "arr5=np.arange(10)\n",
    "print(arr5,arr5.dtype)\n",
    "n_arr5=arr5.astype('f')\n",
    "print(n_arr5,n_arr5.dtype)"
   ]
  },
  {
   "cell_type": "code",
   "execution_count": 18,
   "id": "f3735c0c",
   "metadata": {},
   "outputs": [
    {
     "name": "stdout",
     "output_type": "stream",
     "text": [
      "['hema' 'priya' 'yogasri']\n"
     ]
    }
   ],
   "source": [
    "str_arr=np.array(['hema','priya','yogasri'])\n",
    "print(str_arr)"
   ]
  },
  {
   "cell_type": "code",
   "execution_count": 23,
   "id": "2cf0d697",
   "metadata": {},
   "outputs": [
    {
     "name": "stdout",
     "output_type": "stream",
     "text": [
      "[ 3.  7. 11. 15. 15.]\n",
      "[-1. -1. -1. -1. -3.]\n",
      "[ 2. 12. 30. 56. 54.]\n",
      "[1. 3. 5. 7. 6.]\n",
      "[0.5        0.75       0.83333333 0.875      0.66666667]\n",
      "[0. 0. 0. 0. 0.]\n",
      "[1.0000000e+00 8.1000000e+01 1.5625000e+04 5.7648010e+06 1.0077696e+07]\n"
     ]
    }
   ],
   "source": [
    "a=np.array([1,3,5,7,6])\n",
    "c=a.astype('f')\n",
    "b=np.array([2,4,6,8,9])\n",
    "print(c+b)\n",
    "print(c-b)\n",
    "print(c*b)\n",
    "print(c%b)\n",
    "print(c/b)\n",
    "print(c//b)\n",
    "print(c**b)"
   ]
  },
  {
   "cell_type": "code",
   "execution_count": 30,
   "id": "267bb683",
   "metadata": {},
   "outputs": [
    {
     "name": "stdout",
     "output_type": "stream",
     "text": [
      "[[ 0  1  2  3]\n",
      " [ 4  5  6  7]\n",
      " [ 8  9 10 11]]\n",
      "Fortran order \n",
      "[[ 0  3  6  9]\n",
      " [ 1  4  7 10]\n",
      " [ 2  5  8 11]]\n"
     ]
    }
   ],
   "source": [
    "arr6=np.arange(12)\n",
    "newarr=arr6.reshape(3,4)\n",
    "print(newarr)\n",
    "print(\"Fortran order \")\n",
    "newarr1=arr6.reshape((3,4),order='F')\n",
    "print(newarr1)"
   ]
  },
  {
   "cell_type": "code",
   "execution_count": 32,
   "id": "f4b04757",
   "metadata": {
    "scrolled": true
   },
   "outputs": [
    {
     "name": "stdout",
     "output_type": "stream",
     "text": [
      "greater than:\n",
      " [[False  True]\n",
      " [False False]]\n"
     ]
    }
   ],
   "source": [
    "arr7 = np.array([[1, 2], [3, 4]])\n",
    "arr8 = np.array([[2, 1], [3, 5]])\n",
    "greater_than=arr7>arr8\n",
    "less_than=arr7<arr8\n",
    "equal_to=arr7==arr8\n",
    "print(\"greater than:\\n\",greater_than)\n"
   ]
  },
  {
   "cell_type": "code",
   "execution_count": 33,
   "id": "56199168",
   "metadata": {},
   "outputs": [
    {
     "name": "stdout",
     "output_type": "stream",
     "text": [
      "lesser than:\n",
      " [[ True False]\n",
      " [False  True]]\n"
     ]
    }
   ],
   "source": [
    "print(\"lesser than:\\n\",less_than)"
   ]
  },
  {
   "cell_type": "code",
   "execution_count": 34,
   "id": "42e1960c",
   "metadata": {},
   "outputs": [
    {
     "name": "stdout",
     "output_type": "stream",
     "text": [
      "Equal to:\n",
      " [[False False]\n",
      " [ True False]]\n"
     ]
    }
   ],
   "source": [
    "print(\"Equal to:\\n\",equal_to)"
   ]
  },
  {
   "cell_type": "code",
   "execution_count": 41,
   "id": "8850a7b6",
   "metadata": {},
   "outputs": [
    {
     "name": "stdout",
     "output_type": "stream",
     "text": [
      "x= [ 0  1  2  3  4  5  6  7  8  9 10 11]\n"
     ]
    }
   ],
   "source": [
    "x = np.arange(12)\n",
    "print(\"x=\",x)"
   ]
  },
  {
   "cell_type": "code",
   "execution_count": 45,
   "id": "f4e7bc09",
   "metadata": {},
   "outputs": [
    {
     "name": "stdout",
     "output_type": "stream",
     "text": [
      "x=  [0 1 2 3 4]\n"
     ]
    }
   ],
   "source": [
    "print(\"x= \",x[:5])"
   ]
  },
  {
   "cell_type": "code",
   "execution_count": 44,
   "id": "7b83fe5a",
   "metadata": {},
   "outputs": [
    {
     "name": "stdout",
     "output_type": "stream",
     "text": [
      "x=  [ 5  6  7  8  9 10 11]\n"
     ]
    }
   ],
   "source": [
    "print(\"x= \",x[5:])"
   ]
  },
  {
   "cell_type": "code",
   "execution_count": 43,
   "id": "2364cffd",
   "metadata": {},
   "outputs": [
    {
     "name": "stdout",
     "output_type": "stream",
     "text": [
      "x=  [ 0  2  4  6  8 10]\n"
     ]
    }
   ],
   "source": [
    "print(\"x= \",x[::2])"
   ]
  },
  {
   "cell_type": "code",
   "execution_count": 42,
   "id": "566c184f",
   "metadata": {},
   "outputs": [
    {
     "name": "stdout",
     "output_type": "stream",
     "text": [
      "x=  [11 10  9  8  7  6  5  4  3  2  1  0]\n"
     ]
    }
   ],
   "source": [
    "print(\"x= \",x[::-1])"
   ]
  },
  {
   "cell_type": "code",
   "execution_count": 46,
   "id": "a2685fe6",
   "metadata": {},
   "outputs": [
    {
     "name": "stdout",
     "output_type": "stream",
     "text": [
      "[[12  5  2  4]\n",
      " [ 7  6  8  8]\n",
      " [ 1  6  7  7]]\n"
     ]
    }
   ],
   "source": [
    "x2 = np.array([[12, 5, 2, 4], [7, 6, 8, 8], [1, 6, 7, 7]])\n",
    "print(x2)"
   ]
  },
  {
   "cell_type": "code",
   "execution_count": 47,
   "id": "eaafa1af",
   "metadata": {},
   "outputs": [
    {
     "name": "stdout",
     "output_type": "stream",
     "text": [
      "[[12  5  2]\n",
      " [ 7  6  8]]\n"
     ]
    }
   ],
   "source": [
    "print(x2[:2,:3])"
   ]
  },
  {
   "cell_type": "code",
   "execution_count": 48,
   "id": "f9ebc397",
   "metadata": {},
   "outputs": [
    {
     "name": "stdout",
     "output_type": "stream",
     "text": [
      "[[12  4]\n",
      " [ 7  8]]\n"
     ]
    }
   ],
   "source": [
    "print(x2[:2,::3])"
   ]
  },
  {
   "cell_type": "code",
   "execution_count": 49,
   "id": "9106c11d",
   "metadata": {},
   "outputs": [
    {
     "name": "stdout",
     "output_type": "stream",
     "text": [
      "[[ 1  6  7  7]\n",
      " [ 7  6  8  8]\n",
      " [12  5  2  4]]\n"
     ]
    }
   ],
   "source": [
    "print(x2[::-1])"
   ]
  },
  {
   "cell_type": "code",
   "execution_count": 52,
   "id": "8cf19cf4",
   "metadata": {},
   "outputs": [
    {
     "name": "stdout",
     "output_type": "stream",
     "text": [
      "[[False False False False]\n",
      " [False False  True  True]\n",
      " [ True  True  True  True]]\n"
     ]
    }
   ],
   "source": [
    "b=newarr>5\n",
    "print(b)"
   ]
  },
  {
   "cell_type": "code",
   "execution_count": 54,
   "id": "5aaefd73",
   "metadata": {},
   "outputs": [
    {
     "name": "stdout",
     "output_type": "stream",
     "text": [
      "[ 6  7  8  9 10 11]\n"
     ]
    }
   ],
   "source": [
    "print(newarr[b])"
   ]
  },
  {
   "cell_type": "code",
   "execution_count": 55,
   "id": "f7233995",
   "metadata": {},
   "outputs": [
    {
     "name": "stdout",
     "output_type": "stream",
     "text": [
      "[[0 1 2 3]\n",
      " [4 5 1 1]\n",
      " [1 1 1 1]]\n"
     ]
    }
   ],
   "source": [
    "newarr[b]=1\n",
    "print(newarr)"
   ]
  },
  {
   "cell_type": "code",
   "execution_count": 56,
   "id": "563d0918",
   "metadata": {},
   "outputs": [
    {
     "name": "stdout",
     "output_type": "stream",
     "text": [
      "[[0 4 1]\n",
      " [1 5 1]\n",
      " [2 1 1]\n",
      " [3 1 1]]\n"
     ]
    }
   ],
   "source": [
    "print(newarr.T)"
   ]
  },
  {
   "cell_type": "code",
   "execution_count": 57,
   "id": "b9e9494d",
   "metadata": {},
   "outputs": [
    {
     "name": "stdout",
     "output_type": "stream",
     "text": [
      "[[0 4 1]\n",
      " [1 5 1]\n",
      " [2 1 1]\n",
      " [3 1 1]]\n"
     ]
    }
   ],
   "source": [
    "print(np.transpose(newarr))"
   ]
  },
  {
   "cell_type": "code",
   "execution_count": 59,
   "id": "d5229769",
   "metadata": {},
   "outputs": [
    {
     "name": "stdout",
     "output_type": "stream",
     "text": [
      "[[0 4 1]\n",
      " [1 5 1]\n",
      " [2 1 1]\n",
      " [3 1 1]]\n"
     ]
    }
   ],
   "source": [
    "t_newarr=newarr.T\n",
    "print(t_newarr)"
   ]
  },
  {
   "cell_type": "code",
   "execution_count": 60,
   "id": "75fbceca",
   "metadata": {},
   "outputs": [
    {
     "name": "stdout",
     "output_type": "stream",
     "text": [
      "[[14 10  6]\n",
      " [10 43 11]\n",
      " [ 6 11  4]]\n"
     ]
    }
   ],
   "source": [
    "print(np.dot(newarr,t_newarr))"
   ]
  },
  {
   "cell_type": "code",
   "execution_count": 63,
   "id": "8a05644e",
   "metadata": {},
   "outputs": [
    {
     "name": "stdout",
     "output_type": "stream",
     "text": [
      "[[ 0  1  4  9]\n",
      " [16 25  6  7]\n",
      " [ 8  9 10 11]]\n"
     ]
    }
   ],
   "source": [
    "narr2=np.arange(12)\n",
    "n2=narr2.reshape(3,4)\n",
    "print(np.multiply(newarr,n2))"
   ]
  },
  {
   "cell_type": "code",
   "execution_count": null,
   "id": "5012fe2e",
   "metadata": {},
   "outputs": [],
   "source": []
  },
  {
   "cell_type": "code",
   "execution_count": null,
   "id": "090f8b8e",
   "metadata": {},
   "outputs": [],
   "source": []
  }
 ],
 "metadata": {
  "kernelspec": {
   "display_name": "Python 3 (ipykernel)",
   "language": "python",
   "name": "python3"
  },
  "language_info": {
   "codemirror_mode": {
    "name": "ipython",
    "version": 3
   },
   "file_extension": ".py",
   "mimetype": "text/x-python",
   "name": "python",
   "nbconvert_exporter": "python",
   "pygments_lexer": "ipython3",
   "version": "3.11.4"
  }
 },
 "nbformat": 4,
 "nbformat_minor": 5
}
